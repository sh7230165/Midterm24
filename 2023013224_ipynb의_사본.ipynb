{
  "nbformat": 4,
  "nbformat_minor": 0,
  "metadata": {
    "colab": {
      "provenance": [],
      "authorship_tag": "ABX9TyMyr8Y++fMU141HVOQXWbVK",
      "include_colab_link": true
    },
    "kernelspec": {
      "name": "python3",
      "display_name": "Python 3"
    },
    "language_info": {
      "name": "python"
    }
  },
  "cells": [
    {
      "cell_type": "markdown",
      "metadata": {
        "id": "view-in-github",
        "colab_type": "text"
      },
      "source": [
        "<a href=\"https://colab.research.google.com/github/sh7230165/Midterm24/blob/main/2023013224_ipynb%EC%9D%98_%EC%82%AC%EB%B3%B8.ipynb\" target=\"_parent\"><img src=\"https://colab.research.google.com/assets/colab-badge.svg\" alt=\"Open In Colab\"/></a>"
      ]
    },
    {
      "cell_type": "code",
      "execution_count": null,
      "metadata": {
        "id": "exnxp521XOzw",
        "outputId": "d64630b5-c52c-42c5-c73a-e25614799926",
        "colab": {
          "base_uri": "https://localhost:8080/"
        }
      },
      "outputs": [
        {
          "output_type": "stream",
          "name": "stdout",
          "text": [
            "Name:John\n",
            "born in:1999\n",
            "hometown:Boston\n",
            "Hello,my name is John, I was born in 1999, and I'm from Boston. Nice to meet you.\n"
          ]
        }
      ],
      "source": [
        "##Variable Question\n",
        "#  'Mary, 1998, Ohio; and John, 1999, Boston.'\n",
        "x=input('Name:');y=input('born in:');z=input('hometown:')\n",
        "print(f\"Hello,my name is {x}, I was born in {y}, and I'm from {z}. Nice to meet you.\")\n",
        "\n"
      ]
    },
    {
      "cell_type": "code",
      "source": [
        "## Index Question\n",
        "# Dropdown\n",
        "\n",
        "cardinal_number = \"2\" #@param = [\"1\",\"2\",\"3\",\"4\"]\n",
        "\n",
        "# Add one line of code below\n",
        "cardinal_number = int(cardinal_number)\n",
        "\n",
        "# Ordinal expression as a list\n",
        "\n",
        "words = [\"Zero\",\"First\", \"Second\", \"Third\",\"Fourth\"]\n",
        "\n",
        "print(\"The ordinal expression:\", words[cardinal_number])"
      ],
      "metadata": {
        "id": "ZMQmOji0db9o",
        "outputId": "caba0519-b8bb-496a-e382-7c121727f981",
        "colab": {
          "base_uri": "https://localhost:8080/"
        }
      },
      "execution_count": null,
      "outputs": [
        {
          "output_type": "stream",
          "name": "stdout",
          "text": [
            "The ordinal expression: Second\n"
          ]
        }
      ]
    },
    {
      "cell_type": "code",
      "source": [
        "## Name Question\n",
        "#Name question\n",
        "x=\"My name is\"\n",
        "y= \"조수현\"\n",
        "print(x,y)"
      ],
      "metadata": {
        "id": "LekOm5VyfISH",
        "outputId": "d52fe2ff-eff2-43ca-bff7-b7088bff8ddc",
        "colab": {
          "base_uri": "https://localhost:8080/"
        }
      },
      "execution_count": null,
      "outputs": [
        {
          "output_type": "stream",
          "name": "stdout",
          "text": [
            "My name is 조수현\n"
          ]
        }
      ]
    },
    {
      "cell_type": "code",
      "source": [
        "##Dictionary Question\n",
        "grades = {\"Bob\": 80, \"Jisu\": 75, \"Hyeri\": 60}\n",
        "Bob= grades[\"Bob\"]\n",
        "print(Bob)"
      ],
      "metadata": {
        "id": "nXBD5cACgOvw",
        "outputId": "01db5c1d-6003-4e11-ee06-043d7af39bfc",
        "colab": {
          "base_uri": "https://localhost:8080/"
        }
      },
      "execution_count": null,
      "outputs": [
        {
          "output_type": "stream",
          "name": "stdout",
          "text": [
            "80\n"
          ]
        }
      ]
    },
    {
      "cell_type": "code",
      "source": [
        "##GTTS Question\n",
        "# Text to be converted to speech\n",
        "text = input()\n",
        "\n",
        "# Language in which you want to convert\n",
        "language = 'en'\n",
        "\n",
        "# Pass the text and language to the gTTS module\n",
        "speech = gTTS(text = text, lang = language, slow = False)\n",
        "\n",
        "# Save the converted audio file\n",
        "speech.save(\"output.mp3\")\n",
        "\n",
        "# Display the audio directly in the notebook\n",
        "display(Audio(\"output.mp3\", autoplay=True))"
      ],
      "metadata": {
        "id": "3knkyf09h1KP",
        "outputId": "26347fd1-1ba8-40e5-854a-a26b41936014",
        "colab": {
          "base_uri": "https://localhost:8080/",
          "height": 93
        }
      },
      "execution_count": null,
      "outputs": [
        {
          "name": "stdout",
          "output_type": "stream",
          "text": [
            "I have succeeded in this task.\n"
          ]
        },
        {
          "output_type": "display_data",
          "data": {
            "text/plain": [
              "<IPython.lib.display.Audio object>"
            ],
            "text/html": [
              "\n",
              "                <audio  controls=\"controls\" autoplay=\"autoplay\">\n",
              "                    <source src=\"data:audio/mpeg;base64,//NExAAPmNUUAUJIAfqc5yZzvnAGDgYG4QQHBAwRgmG1goGIggYLgmTrBQMOQMLo26QIEDIfAMERywBgyHwBAiO0AO//wPgGB+bxCs8XxYAAM1DNg2CBW+fQEzIv60wC//NExBQSckaQAZKIAaCCAZE8g5ummSQs4MsAF/6b8ezZ1p//m6qiyRf+347Demo8af//nS+TjoJoLV///tzNKdY0PrmsZUwJCiOu7LV4lx3RkMBQSXret2Yus8MRLaZ///NExB0X8S6sAdh4AIxhV4oqapOR9BeDsVJymmLIX81kudQVikUEZzZ8x8xIfnvfFqah4xi8lfnLVTzx6CxcQwC8cYQZOAoCOdhtKKqFnqLP9XWiB1bFDy2CGO5umzcU//NExBAWWTKwAMYwcHh37r0wYD6NmtNhEATUCH68CwEquySzjSRQWPD7SYEh5HddcN7swxT1v3y3e5/ca/P3lLMOarSzCxzG3rOWuprQwi+mhtWybZHVbkcBPiWNsEKA//NExAkUSSa0AJYecLRY7qmHUMUrTtAXGDqXL9K3JrEj5nEWUmRrXN06DrrVEi2jAYpYCuQosDJ8+LP7QnJQRPi7hPJCZm2oFBUhVqxVaA3Imf17iSrDD9R8xPbemxmU//NExAoTyTKwAMYYcDkDQyLfeBd6WFBQUMtFB39/TN2aH3m+RmkzyYCVJvxWTU+9QWEm+7QlLOnoyJb70CY8naUPlnQ4+xqgxn5UPsEbv7JWlFW7+rr0BZg7VJuiEIUF//NExA0VibKoANTalIKB7OBTApMNhLZOywHwDaR3GWfyd0lj+WumQVneRBOqCBNE/DVWX0hfWtJRIF9JNkyTKK1LWbep/S+g+nddbnQlMfRtd/////Sq/96j5sswl+Mb//NExAkSSTaoAMvWcCF+2fVeUgD9a715dEvbP6Zi6+IBN/hY9/rR9IOibIgOSSarnSDHcvvNyd25QsHbbs4EqPsMTtISv/sTIf////XVufuYWyZUUPG+uDEwpAgobLw1//NExBIWaSqcANvecMRcIVP+2gSTdnGm8rt/O0P/9Dctv4gHTXyNindezCXQcM1rtp8KrflX32frbSxReKmVC7J2psQ48AlT1Op7iRKGv0u9T///QpunqXxAON8bTha7//NExAsToSKQANPScCgVHmDkBkZO2bR5K2tsG6CpPHfkFdQr/akRz+oDyvURjGipuVLNK+4Is29FJnZqJNe3nhU1E1t/TWIo13//////6lDqkt7VKCcSfKmfkGNCEySX//NExA8SuLKIAMYGTNSAYdvfq1/sQaZwwET7ASsfRIIiRBjzhY0oaiHiywjcUACdQfhFcXBi0HwscQDjtxD8Vf/s6k+O4pQ4MQEboZnCAw5LH3nn6EXsvf0oVDqUzB3q//NExBcXWoagABiMuZOiX13J3v0Qe9MQvf2j//vt+C6RT5DLpDDCAWTTaM2U/ERkNbmSeToggQUQnXJ3ZiGtHe/mb9z3aZARJ5lIe+oTHLfg/+tqP39/9////6BlXX////NExAwUKwawAAiQuf/9V+4///9fjiJ7VVqCkZ6uJflLKdVShgqosVYhEBKLw5JR1lDVZZebHWXMwOd8e9PWOapsa1MLxQu76KLpBB9FjxcwBTf///8///////////////NExA4Rsxq0AAhOvfzWt9+s5Lo51bGzWmmoxz7GnGoWUXHFR1B1iTmlT0QqceaLBsLkID4wOIJxLQIBggwiGhQYJGkEYV///////71////Rf////9PX3X570o1mscbb//NExBoR0yKwAAhKvEcpSuLKIo4saQPipzigAB5AkOBwsAXDweFg8KGM4Ah0cEwkIuBxQPAcPjQiPdUf////v//kv///+QP//9t97fT/dm099JlDlLrtotUSccah57LL//NExCURsyK4AAhOvA+NB12kR0sODprn2E55wtKBkbjcfEQqIphMXCKIoPRJHjm1JuXAaKDhaBwplthykzO/Jf//+9v///8K6NX////5LP//r0Wip1I1Uot1BshyknBK//NExDEROx64AGCEvCAasR+Z1YxnAlEAQoxnhS8BdijI3S2axApdrEYzJj+8rcmEGzQFzNtmA8u7zdvoHe8UdeWN7oOJtSwXhxUh2H/6V3CX7j68s2zh0Dmv/b6XJDv7//NExD8R8T6wAMLQcPqY3/40Rf/UWs8cqVOJWi1TtLAa1bk9WelJJerFgGr4JBdfCf8L/vJtc233E1tOXGkCJzQ+EIck3dUaRC1bR/BN+UF/2N/tv//z/DvlRzxC6SqU//NExEoSIaqoANLWlGsKc0pwiGVTgWTN05BLBEPT1bPmU1D3cdVrW/8v/Uv7jHPcY5/LeqhITMVUjV0mhIXoWUg000qYEur/yIKnXekj+BTobIaZMoGlyqTNHgN0NMAI//NExFQQQR6UAVlIACI+HBZVDGmVYy22Sd7boPDaX274liFPHw6SqVEVjLROmVjAAMTwiSQyH9anqOtwCYE5PG8/B29k7VIfUMx/hAnuNF6pm5vthmzZ9MY9BsIUSL4v//NExGYiAxJIAZpYAfr45j3/X+aLGhxpZFnOzk3zX/fF/x/91Ed/7LNKs5K4no86sk00EQuL2wzxg69ZvlVPtjyNwbzyR6xYY8RA9FAWR4RqMWcRBKIgCoNDQFQWgXwG//NExDEdAxqEAY9QAWd4sDwkPwtuVHwyO/nnvzKFCMqr/1mZk8+eqlEMMKEBX/91Y+YZMZqkRVXcqalUX1X/556qeiXsm7k55MNCRBYJEaUIJL0MyAMPRjmct0RMirm1//NExBAWaw6sAcUoAb6pNYNEgECzBxBI6Oa3dnROxD+d8lCbnvr/059eyn+jnOiEKecXdXGKcTF5xxGfU7qhGOhGQ7kIynzuxBzkFGiYu6nQp3SggBEdFGN/RM3y//+3//NExAkTexqwABCQve6iSgJWc3/////t/F///E8131/N/++3VR81E1xcxqpKcxUSvzM3/lKoyMZbSkWLysGsZLiUcoUZA6owDDw4gLiOHgfoBv/P//7LX///1////9KX//NExA4TCyKsAABUvP+us9XVTqc99KnopYnuY089eyHmGmFSciUeEQyQgFxAXJyQRI9FUmFseCMJoUATRWGpEFUgArh4NhqKokjr1S/5//////f9f//+v///939F7eZX//NExBQSWx6sAAhOvF6O6N5jIjHIxByBim3RjVcnOGp6OtR8ozDImFZUaicH4nGSwGCQLwoJxWhIoPgvBYA04Sx9Kv////kRf/////////39dvXf7s7TzldHU5zyDFih//NExB0RuyK0AABOvJqe004qRdxqrj5IdE4qLAWY4JyY6JBw+IpAHg+TE4pGo2GhECA1AoULGY/9cVlgQdWUxe5//////Lk///kdf3///9t/l2WRfrdVI9bGVHdLGMWY//NExCkR2yK8AEhKvN6iJDspRZDGVHRDsJDygUWQ5S3ZyFUgecAhcCh4VMqmxxxmWAnUClr6w9begEnAohs6KmJdtVE/9Vf+//tX7SleLCUFBJ/qJCT/aQ4heFGSfpDF//NExDQRkT6sAMNQcEX9iYHGo/4l8t//p9gUkgK55aqZ3rdxuphciQ+uU9t0Q4W14iBG8oo3r+jepP/l38oFQjg0EQ+sHg/IM4EEPQ+AUDyrpopOVR3r4nSuUtI1NOPg//NExEASebqsAMlQlMEr/cn////xR9Gt3/+gR1B98nuxO9cTKbc74SN5xb5pj+7fS/s/NMLhMCwWGKNQWiIWqyBUHArEtFOciNyb9vmpMajlhuPsATv+YJf//Nf6R6nD//NExEkSUbasAMnOlNXPX/usz0gsVopHls/NKVCxvOCRvOJmfQ9+hyt/+v/7VZeSZ04gFB4CFMpYUqCPbSRCp8kAICUGyNC5gkBAu5xd/11u//9u13btdSrX6/uDCzF9//NExFISmU6sAMnSlIzLIVe/OPDf8IhZ+Lf1L/nN/7P9Pcw1AuTGWzgbgbWuXwsBUbKr+Dy3/tOf/zP/DjZa9X7Tv//7O7vytZyxasugKCOByYzGGG4St/JKwpvqKtr8//NExFoQmbasAMnWlHW6XX/6ROuv//+Ya2Ji205yp0eieBCASOlkfta2oYbGIEIIp3wV/XqErtv/////8spihIgRPEJSYSLa9EHLCwI941DCBepMTIhDw8eVuHpTOCk6//NExGoR2T6kAVhYACfzd7gfEA4UGqlpq91/5RctOi2o34So/SlKcEnld+ykhtcwovSkub/JjmFOywy6ZnbnLev97y/9JLDSmz0Z03TP6YHWly7OpSaTPTMq2/vFetK7//NExHUhYkqcAZpgAPq7y0s1f+Jio9Q4sudacYEKj367BwgHOSIIacp6UljYkPSQWOjVrDCVP7Z5unyh2tLizn693Y49u3ml4KUq+wuLBFLSQ5KJ66dvsZHrjl8bdXxl//NExEIY0aqkAdlgAEWjUSTSz2zf57evm7M9O7M78xVKKFxej6f///1tckylRqrOip4MBhEZYWg4tehaBmaWYJRDhuCjVl6K4Z3Hoqj2L3SqQSuVF65C42q9d9CYgRRP//NExDEdabqcANselNWtQ+Ys8eOS4XCEG+TVBHUXo+8M/VLXtlgStuG92oF5X4cmzcrnXdfb0+M13/6/4/3je2KJYKIsFfq///njr0NkaxSojaTD27gZfDt5dxkkRwF5//NExA4VwU6kANJYlJ4WuQRAAU4QHE1g4AYNSIBLVptIpNt5LbnK5tRksk3sUK9Y82VCqCLp8kRrYn6THHn0z8iaP3yrf516ZlCaMelQLAyn/////+ib5KQqhMOAnYgW//NExAoTWT6YANYScIDrrFw5AQAcfi2b9evDvc5G/N7V3lLunncebWl5urLaqSSiyS4uQhUWHQJiZKwRIvspXUvWp1NohZ1kiNdPNz1KACLKc55IANY7AU9L8EmDolgU//NExA8RgTaAAVowAEVPovGnRDQ5YstXDJrOdilwytd3nRaq9OzvKVbM5RhIkFCSJFEGhbV/lb//v8szkUZDX63b3epD08TEbQfYrcBCQYGIhRkCPJGrCVp1xs2/rC1J//NExBwYQmqIAZk4AHdgiCQH/tuD0ZB4U/8shwAAx/+HCWNATLCX/b8TjYSBwfLi///8RDRJB2NBsJB4i////hOYIhZyY4xCCX//mQQMHyAPmpZauxkMvkORIMcBSarf//NExA4ScTKkAdlAAC21JOLlXle9ZxvLL7nOqg71lZcfsUjamTQ0IxwlDu23aB7RfFPFSkWLnkCimOSPGvpjpJa2REPOlTrfqp+/pZZWhvzJVGBUDjD6nR0gjFLY1CAy//NExBcR+Z6kANHalWiI2KXxWflOj0chmixmJo80zIlw8OiiQEUTA3daj+s0mLjgPrSOrrX/d+h061G9wTez2oQjxY9R0kDjVqKWXGOmt/FwhseBPhR2sTyjaF9BbxHn//NExCISMaKkANHUlLAMEhBAf3H5I0hL5CmUHVcoFOlSTmvp76ddSpjgrTK11P7o3///qZjlQdffycpRGqhKduATDzCDAt5omOJ1HSYesrPWRyVZ/8i+Sq3FznBWAGEV//NExCwSKT6kAMzQcGCYphcPTaVvla9o7rqj6UIr/thUYLP//Z///9lCbHDuAi3mkILTAQEUdnBTjQoACzRRTJNNh+o/DmNO0lgl6mr3cdTMV7V5KloSp2isidSPruIo//NExDYSeTaMANYWcDkmwkbMbKqtucy3fx7uZhyQc//Vm77YzB582gLijRzFZsBOSHdUph6GRLuylJK9gG4LjE7fr3ePt3swov24IgSsnoLRBAkvW10HZKsovRaTeARU//NExD8QqP6EANvMcCS//0J8oKSnC0DEYJZ4oGZYBAQ7waD0CJQiQZyIFsiB02G4DYNOPLDSyY5ZNPX/g92zJX1Qj3OZ/TRz8gY2Kp/Nv/Lf5iNUCBxrv///VX9vNLMA//NExE8SaS58AORScLE20BaYnsFtwDGSs67jC3IMp3GTwJRyIDClt+kodc3J+87Z3OKCeoRyE1id+9vVFoRtLe0jds0HyKu/FM5Us7/41YnqnFGR9aSr6HMDNVLzkgRj//NExFgRoS6AAN4ScEB+CKDvIwd+LEywOiy7RWseQbFqW5QWThpalEnLQwk6xICxIJCNYk5Yk05WrqP5fQsXsY5Tv2iynf/rIPR////dG0LD+tdIosYIGXICoLplzAqk//NExGQU6TacAM5QcEmGZMZQEa6ZEnmBBnmBr9/9fPyiLbBQNExAOy3GcxNrdqP9Znn9tfXzAsfcv4oSE73/+e7f///1Kq2NMIihEesR0FB0YYhKwJLG1SYlSTmQU+dK//NExGMSMTaoAMwScBj4aPOI+fhb5H1qDcmRYEtHPrGp8T8LWvcGtwK0U/2Qzf/////+0YRquTt0K1K6zdM0B1e4KwHOwE0jJs106ctSPYuaMUXW6/6qhkdSlczB5AGF//NExG0QkTqkANNQcI0pny6P/6XHh476v+kXZ/+XDB856v/oDB+NfEbgPTVvQlEksH4knLBWAMbnu9M+YNW15Jf8v1lEl1SeRtlo/j/pkrPrYyL/+YmP7/fslRrt9mk7//NExH0SGT6gAMvKcH+57bdO5Xtjj7Zc06anlXIxy9CbSjasmTkXn2Q066auzkm5afNKD4NA+AnkAPzCDJ2gmbkYXkMdPko6NhMMEBAzBWZoVKf//J+Uv5Fvl7kt8vKI//NExIccuxaYAGCWuen/+f97/+P//8b+d5/99Z3bNPmu/H8fcfOa4tumvLm1ZvvOnDVHur1zK9tI97REtFniw30Z01UgRqOojqeZLyJs5VYohZFWhR8IxxJoooSvacoZ//NExGcamx6YABBevFQtjRUcv///////////zn/////T11/ft+aYdnuYayq9XRjp73PLj5MoSGh80mqHKNzItIiOLhuNQeCSPg8Fw+VDhLNHguOnCkOB8NUVX/qf//////NExE8SEyKsABBOvP1///8sv///6+runXer/776OlVVlI63nvQ8cnFjx6KDTyRhqs40MEgeIlTjRUIhEaqI4PCo4RiwRjSI6QJBxqkGv//////////yv/////NMv+tR//NExFkRcxqwAAhOvHqta6knQ0rFsTyKisZQfA2IFhZoGitTDjrokVYHRGBSHIQyC0HhcUHCwsdIw8PToyoghZFBX1W//85////Wf///eif+v17c35UY65VderGssz+Y//NExGYQyxqoABAQvarTSodEVDRIxUEWM4sYSdzFILMJCYqA0eIkMYyCTKUpVKJDViYPGNQR1RMqCZYSI1I6gMLTZ04LWFmGpmF1D5bZbPsM5iJOsT2zJTgulHyvL/nt//NExHURgxpwAGhKvcJpOFcsnW1eoIvYnckEYQYUQNrtqXNcn0gFAoBAkYoUMT6kdveoj25JisVhcNggGGMXRo25510cyME3wnUJ+lGITns+uKzdWRt4jRo26nOc9nNd//NExIIiKxaYAEmSuLI0aNHKDF0soGrd8VbnBRSCZkYeTtfKpkMy92f93Kd9b92PB8eu8N6xDU/DIH8z6BkgsHIbXd8pfylU4+4xQTl/CEbOQmKmO0m4ZMpxYblqgWJp//NExEwgyx6cADGSvApdMMiEhCuIQqKhUREyLaWFRnp8UoTzSGSaGcJqkLMYxUbjFJNuNKlCb+Uk2ZU9btQJrSv9hEyqjGiQRgXtWx1mvkCBUkVGhIkK9UhPPtfQJn/6//NExBsQuQ6oAEpGcJgbMAgQRVOYoQCAFDIRGDQoqUJF3teTtYL0lUJckOusIEb6Xo6//yPC9uAhJq/rdxn7+z1qAT9B1YWcBnFronBZwHNVP5DTQ/dqX8L6dY0IYmEJ//NExCsSYS6sAMPMcKZCcl5xuZKUH2ZRn68SvCyAdJNMYuj7fkyo42AH3pXfzQBaZvQSMS0bMeZLnuujIGObbF9kjYtfurAL2h7PBw9ttYcUgYk7OSGYMk1hSNV+S1q8//NExDQRoRa0AH4WcJFcH3zahxwiBsXIQJv/7NilXoVeoLYnsJ44vSBO1vAdIqOxdbGJilW+NSdazyDWhd9CgvqxhpXOMhHIsSc761+WTX3O4/yKnf2xOvjDjaeslN90//NExEARYSa0AIYecJ117Z+mtUM4BQizA0iNvruJb/fRacvuNhQpR/v3UtUF4f1Mzrvz6uolRlcj9H+q3irQao1BmZ7+8aJqr2FEo+hZvVlhRHnjDSTP/d3DmULLmpsc//NExE0SKSa4AG4ecDy/DOQjUu/7Gnv1N0Ba1b97UbBVpN2dTvXtY7cXgz7tMMWftYkJlPNJEaOK7iuG/26X/MOb+Ripftz3esSb7d9tHtger/ACoctWHIYmYGioWsKQ//NExFcR8S60AMYecHoABR9rst4MMCK2nOSsMGMrEMOg8qNjgZhxN7Ouhwtqnc12wSTZjf5pCtjV4tP5YPpV9H/gWo//7GIq/wQAdOoSgBjKmQuhOVlSGQTZkEnIsRFC//NExGISUS68AHvecMes5hwqok5yk600P25qxMWEoQAUFBKEBKqTE6Vyl3+fj2qvy+e8j5uCplln/+Sq9pRY01tjCKnlVZYdM6DjQiUBWltZAcbREJ4JqnT8Qgyma6gV//NExGsRkSK4AHvScE5nOr0NZyiIycDgeapjscSFjOsaxjGcWxneva/1GveGGxC7//kqq5cIiS2s2jbXo+r2zktj7ASQTZlDHABQaUM82FqFfgQkkhqhgONqq4uJookn//NExHcSYSa0AHvecIOJpRylYtW3ieoDYwNEiJUqIgyCYdSv/1p0K/101WxVXqAJbUoC6qCuVIWMTB21iFySrsfJ/HwrWTDOspSKrnOO1KKFg/Wh0fo4anOoa1jbFj1D//NExIASiNKsAMPecBrysNJCYmeRRder/yJmv/qVuyxuZrRT0TAXMk7PZDKsCqzIAKmIeWIIC6dU5xdtulUSaHg8GgUPsgs0u++3+nV9g6Rez/TcowAxG8Q/rUXEO0MF//NExIgRUMKgAMPeTCsODFrHrqO91eDZHUhg3DRTb9VLoVSwX75yQ54Sw7M5ZwuiCCq1dcy1f3P/y/pMbTurLpC21GQ0xy76/3xM3FIrxcS93QylUjLfubl7Sne5qY7F//NExJUPMTaUAMMKcASs4iWMLEI2JPOIBY5AoQOVBYobKUtpURkbW0rGgzl7O7olinDGoWZl9KVVKNq53BncTf+d2pv317a//3j/4383re1MRryYrnWd0zeDL7W1PWH5//NExKsaExaQAHjQuGNW148uM382J4NJMKeE8leLn6cIUWJPlx987bYbPLAXbKj1IsnAarAz2XjoVxFH01xF5rLw8Vz1hQa/+n/87/+X/////tf/1/////H//zPMU23///NExJUeox6QACievdcXzXvrfLoplRbmNafinw1txc047JyKe3Tlxo5uquaEoezg/CBQHUJiwfB+ckqSiaXqIFBylQ3/u3////87////5r//////1r7O6K6LTdh5DjVI//NExG0T0yKkABBWvPzbz1zUZyKDyMJJA1jpxjjQTFRuLxSWHROLRQhE4uIRLGRJLC4mGi8VDs///mfzl//8H+v///////tRvfVvRPemz2qiW+a6qzKh5550xTZNFJOx//NExHARcxqgABBOveTHxwaC0bjYH6FSQSlxKGiniIJIikAiDYPhHIDUcEoi/+f////spxFT269v//////rZKo/dL/V7pYzIxzKnIRnMQQVSKboNMhyHJqdRguLiA4pD//NExH0SKxqkABBOvaCJBEYaOUVQ5REjDRwwOiIULD1qCQJTl/NNa3//05lAShSlSVDFL6lL1//////q9StfpVtS6PNRzZgGFpSlESlQSeZjQ8LFmMzlaXM1SkHgKBUK//NExIcR0x6oAAiKvGzGcqFK39Q6KlUQugbjBvouM3NqKjNRkbNvWpJ2+hnUs3YrGSdEdkQrXkRfbZr01t/V//+n9ORPs/craOtBSA6RGNPY5L1ldK2NGMFB6CL232pq//NExJISowaMADiKuQd7EOpGRLNrDDUuua/5ZnD8soorSkw8Sd9AvlpSKKZ8knSrlxZRMjxkXSXMTet3QsdPpGbBTiJMAk4eyv77JmroRtLqZQLhIEt+yNNR9k2QsShm//NExJoRkiJUAVAQAMsvmapBZ//fWqyaap44Xx6Emis6cLy3f//zdBSLpHi+Ymxogm+yZupk0C+gkgbIhyfYvdJmSPD83WqtzppiITcRsowwSigdnHklM+aUoivRA5v5//NExKYggyJgAZhoAChWEgYHSiOHYeGA6NGnAcEIAIMiw0TA1AXFiggFaI6oacMIUumFQ9BolERSnc27w9WPUyg4KuT6ItVVZ6hH4/Gi1S38XOSHhwirNpCXdp2kT8rf//NExHchkyp8AZhAAP211b1U/Dfwboo3JJaZoqoOUvsK34vQJ5TNv60zPU7+POIkG1lp/0OVhJJoMyez/+eCUch6CgkOZSssn//HUhiEKUnAw2Fl+GJm///Mq54UpCMB//NExEMiKtJoAY94AYVbFtCfQv//+3tjgrkfCZnSGvn2N1/hZ////5+RHiFnA3qC87DEg6hWzitfnX//////8GaLdts6Y1XmRhkef/4tb+CCm5UoTeMK232MgyIJPnkq//NExA0TMeoQAckYAL/28rb9z2bvm/GRVHCiUd2DVQ1IWHnoxEi9+UoYZjn3bZvMisJckM/0/ya+w546lAvy0qOWYzxFJpvXVSqmMmERoGE9nULjipDVBXzjKuqH0i24//NExBMWec4AAEjMlaygL6G7m6c0JEug0bRaME0R7P4eq/inn+t+ZVVXf3Od5zsVS6ntbb9hAvC3G41u5WfwZdCdibq9/b//4n7B39H8OrNy61sWzadQpczCEw3CH5CF//NExAwRudHwABBGlDhDyeEJCqoUSCVhVASAhVZmpMeWqr/32//b9mPKqq/SilG9RMisYDQCPYbErjuHafxK4lg09Yd4MncrAQwUEHCOjmRq1lksscjL7L/mTK1BAwQY//NExBgQccUUABjGlSggYJ0dCMmUMDBAwoYKCBhHR7PPlks//sssv+ZNZYyggciBlPuqrppppUxBTUUzLjEwMFVVVVVVVVVVVVVVVVVVVVVVVVVVVVVVVVVVTEFNRTMu//NExCkAAANIAAAAADEwMFVVVVVVVVVVVVVVVVVVVVVVVVVVVVVVVVVVVVVVVVVVVVVVVVVVVVVVVVVVVVVVVVVVVVVVVVVVVVVVVVVVVVVVVVVVVVVVVVVVTEFNRTMu//NExHwAAANIAAAAADEwMFVVVVVVVVVVVVVVVVVVVVVVVVVVVVVVVVVVVVVVVVVVVVVVVVVVVVVVVVVVVVVVVVVVVVVVVVVVVVVVVVVVVVVVVVVVVVVVVVVVTEFNRTMu//NExKwAAANIAAAAADEwMFVVVVVVVVVVVVVVVVVVVVVVVVVVVVVVVVVVVVVVVVVVVVVVVVVVVVVVVVVVVVVVVVVVVVVVVVVVVVVVVVVVVVVVVVVVVVVVVVVVTEFNRTMu//NExKwAAANIAAAAADEwMFVVVVVVVVVVVVVVVVVVVVVVVVVVVVVVVVVVVVVVVVVVVVVVVVVVVVVVVVVVVVVVVVVVVVVVVVVVVVVVVVVVVVVVVVVVVVVVVVVVTEFNRTMu//NExKwAAANIAAAAADEwMFVVVVVVVVVVVVVVVVVVVVVVVVVVVVVVVVVVVVVVVVVVVVVVVVVVVVVVVVVVVVVVVVVVVVVVVVVVVVVVVVVVVVVVVVVVVVVVVVVVTEFNRTMu//NExKwAAANIAAAAADEwMFVVVVVVVVVVVVVVVVVVVVVVVVVVVVVVVVVVVVVVVVVVVVVVVVVVVVVVVVVVVVVVVVVVVVVVVVVVVVVVVVVVVVVVVVVVVVVVVVVVTEFNRTMu//NExKwAAANIAAAAADEwMFVVVVVVVVVVVVVVVVVVVVVVVVVVVVVVVVVVVVVVVVVVVVVVVVVVVVVVVVVVVVVVVVVVVVVVVVVVVVVVVVVVVVVVVVVVVVVVVVVVTEFNRTMu//NExKwAAANIAAAAADEwMFVVVVVVVVVVVVVVVVVVVVVVVVVVVVVVVVVVVVVVVVVVVVVVVVVVVVVVVVVVVVVVVVVVVVVVVVVVVVVVVVVVVVVVVVVVVVVVVVVVTEFNRTMu//NExKwAAANIAAAAADEwMFVVVVVVVVVVVVVVVVVVVVVVVVVVVVVVVVVVVVVVVVVVVVVVVVVVVVVVVVVVVVVVVVVVVVVVVVVVVVVVVVVVVVVVVVVVVVVVVVVVTEFNRTMu//NExKwAAANIAAAAADEwMFVVVVVVVVVVVVVVVVVVVVVVVVVVVVVVVVVVVVVVVVVVVVVVVVVVVVVVVVVVVVVVVVVVVVVVVVVVVVVVVVVVVVVVVVVVVVVVVVVVTEFNRTMu//NExKwAAANIAAAAADEwMFVVVVVVVVVVVVVVVVVVVVVVVVVVVVVVVVVVVVVVVVVVVVVVVVVVVVVVVVVVVVVVVVVVVVVVVVVVVVVVVVVVVVVVVVVVVVVVVVVVTEFNRTMu//NExKwAAANIAAAAADEwMFVVVVVVVVVVVVVVVVVVVVVVVVVVVVVVVVVVVVVVVVVVVVVVVVVVVVVVVVVVVVVVVVVVVVVVVVVVVVVVVVVVVVVVVVVVVVVVVVVVTEFNRTMu//NExKwAAANIAAAAADEwMFVVVVVVVVVVVVVVVVVVVVVVVVVVVVVVVVVVVVVVVVVVVVVVVVVVVVVVVVVVVVVVVVVVVVVVVVVVVVVVVVVVVVVVVVVVVVVVVVVVVVVVVVVV//NExKwAAANIAAAAAFVVVVVVVVVVVVVVVVVVVVVVVVVVVVVVVVVVVVVVVVVVVVVVVVVVVVVVVVVVVVVVVVVVVVVVVVVVVVVVVVVVVVVVVVVVVVVVVVVVVVVVVVVVVVVV//NExKwAAANIAAAAAFVVVVVVVVVVVVVVVVVVVVVVVVVVVVVVVVVVVVVVVVVVVVVVVVVVVVVVVVVVVVVVVVVVVVVVVVVVVVVVVVVVVVVVVVVVVVVVVVVVVVVVVVVVVVVV\" type=\"audio/mpeg\" />\n",
              "                    Your browser does not support the audio element.\n",
              "                </audio>\n",
              "              "
            ]
          },
          "metadata": {}
        }
      ]
    },
    {
      "cell_type": "code",
      "source": [
        "##Function Question\n",
        "def Division(x, y):\n",
        "    return x/y\n",
        "result = Division(20,4)\n",
        "print(\"The result of multiplication is:\", result)"
      ],
      "metadata": {
        "id": "zFBYxzgTikK-",
        "outputId": "eaa9f289-4071-4da1-e1e2-a78826dd2447",
        "colab": {
          "base_uri": "https://localhost:8080/"
        }
      },
      "execution_count": null,
      "outputs": [
        {
          "output_type": "stream",
          "name": "stdout",
          "text": [
            "The result of multiplication is: 5.0\n"
          ]
        }
      ]
    },
    {
      "cell_type": "code",
      "source": [
        "##Audio Question\n",
        "import gradio as gr\n",
        "from gtts import gTTS\n",
        "import os\n",
        "\n",
        "def text_to_speech(text, language):\n",
        "    lang_code = 'en' if language == \"English\" else 'ko'\n",
        "    tts = gTTS(text=text, lang=lang_code, slow=False)\n",
        "    tts.save(\"output.mp3\")\n",
        "    return \"output.mp3\"\n",
        "\n",
        "interface = gr.Interface(\n",
        "    fn=text_to_speech,\n",
        "    inputs=[\n",
        "        gr.Textbox(lines=3, label=\"Enter text\"),\n",
        "        gr.Radio(choices=[\"English\", \"Korean\"], label=\"Select language\")\n",
        "    ],\n",
        "    outputs=gr.Audio(type=\"filepath\", label=\"Audio\"),\n",
        "    title=\"Text-to-Speech\",\n",
        "    description=\"Type in some text, select a language, and generate audio.\",\n",
        ")\n",
        "\n",
        "interface.launch()"
      ],
      "metadata": {
        "id": "06CLIJ2njdMX",
        "outputId": "b2575334-5280-49c3-c7be-09f623f764e1",
        "colab": {
          "base_uri": "https://localhost:8080/",
          "height": 384
        }
      },
      "execution_count": null,
      "outputs": [
        {
          "output_type": "error",
          "ename": "ModuleNotFoundError",
          "evalue": "No module named 'gradio'",
          "traceback": [
            "\u001b[0;31m---------------------------------------------------------------------------\u001b[0m",
            "\u001b[0;31mModuleNotFoundError\u001b[0m                       Traceback (most recent call last)",
            "\u001b[0;32m<ipython-input-35-8b5a762c7865>\u001b[0m in \u001b[0;36m<cell line: 2>\u001b[0;34m()\u001b[0m\n\u001b[1;32m      1\u001b[0m \u001b[0;31m##Audio Question\u001b[0m\u001b[0;34m\u001b[0m\u001b[0;34m\u001b[0m\u001b[0m\n\u001b[0;32m----> 2\u001b[0;31m \u001b[0;32mimport\u001b[0m \u001b[0mgradio\u001b[0m \u001b[0;32mas\u001b[0m \u001b[0mgr\u001b[0m\u001b[0;34m\u001b[0m\u001b[0;34m\u001b[0m\u001b[0m\n\u001b[0m\u001b[1;32m      3\u001b[0m \u001b[0;32mfrom\u001b[0m \u001b[0mgtts\u001b[0m \u001b[0;32mimport\u001b[0m \u001b[0mgTTS\u001b[0m\u001b[0;34m\u001b[0m\u001b[0;34m\u001b[0m\u001b[0m\n\u001b[1;32m      4\u001b[0m \u001b[0;32mimport\u001b[0m \u001b[0mos\u001b[0m\u001b[0;34m\u001b[0m\u001b[0;34m\u001b[0m\u001b[0m\n\u001b[1;32m      5\u001b[0m \u001b[0;34m\u001b[0m\u001b[0m\n",
            "\u001b[0;31mModuleNotFoundError\u001b[0m: No module named 'gradio'",
            "",
            "\u001b[0;31m---------------------------------------------------------------------------\u001b[0;32m\nNOTE: If your import is failing due to a missing package, you can\nmanually install dependencies using either !pip or !apt.\n\nTo view examples of installing some common dependencies, click the\n\"Open Examples\" button below.\n\u001b[0;31m---------------------------------------------------------------------------\u001b[0m\n"
          ],
          "errorDetails": {
            "actions": [
              {
                "action": "open_url",
                "actionText": "Open Examples",
                "url": "/notebooks/snippets/importing_libraries.ipynb"
              }
            ]
          }
        }
      ]
    }
  ]
}